{
 "cells": [
  {
   "cell_type": "markdown",
   "id": "b4d2fa76",
   "metadata": {},
   "source": [
    "# Data Merging Basics\n",
    "## Inner Join\n",
    "- Joining is basically merging different tables.\n",
    "- Merge method is used for inner joining.\n",
    "- Inner joins only return rows where matching values exist in both tables.\n",
    "- If a value is missing in one table, it will not appear in the merged result."
   ]
  },
  {
   "cell_type": "markdown",
   "id": "0f1d2faf",
   "metadata": {},
   "source": []
  }
 ],
 "metadata": {
  "language_info": {
   "name": "python"
  }
 },
 "nbformat": 4,
 "nbformat_minor": 5
}
