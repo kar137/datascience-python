{
 "cells": [
  {
   "cell_type": "markdown",
   "id": "b4d2fa76",
   "metadata": {},
   "source": [
    "# Data Merging Basics\n",
    "## Inner Join\n",
    "- Joining is basically merging different tables.\n",
    "- Merge method is used for inner joining.\n",
    "- Inner joins only return rows where matching values exist in both tables.\n",
    "- If a value is missing in one table, it will not appear in the merged result."
   ]
  },
  {
   "cell_type": "code",
   "execution_count": 7,
   "id": "0f1d2faf",
   "metadata": {},
   "outputs": [
    {
     "name": "stdout",
     "output_type": "stream",
     "text": [
      "departments_facilities table shape: (50, 9)\n",
      "   department_id         department_name   head_of_department  \\\n",
      "0              1        Computer Science      Dr. Alan Turing   \n",
      "1              2  Mechanical Engineering     Dr. Nikola Tesla   \n",
      "2              3       Civil Engineering  Dr. Isambard Brunel   \n",
      "3              4  Electrical Engineering    Dr. Thomas Edison   \n",
      "\n",
      "            building phone_number  \n",
      "0  Engineering Block     555-1001  \n",
      "1          Tech Park     555-1002  \n",
      "2        Main Campus     555-1003  \n",
      "3   Innovation Tower     555-1004  \n",
      "   department_id library_available laboratory_available sports_facility  \\\n",
      "0              1               Yes                  Yes              No   \n",
      "1              2               Yes                  Yes             Yes   \n",
      "2              3               Yes                  Yes              No   \n",
      "3              4               Yes                  Yes             Yes   \n",
      "\n",
      "  parking_space  \n",
      "0       Limited  \n",
      "1      Adequate  \n",
      "2       Limited  \n",
      "3      Adequate  \n"
     ]
    }
   ],
   "source": [
    "# Import pandas\n",
    "import pandas as pd\n",
    "\n",
    "# Read the CSV files\n",
    "departments = pd.read_csv(r\"C:\\Users\\Dell\\OneDrive\\Desktop\\KaranCodes\\Datacampcourses\\Associate-Data-Scientist-Python-Track\\resources\\joiningdatawithpandas\\university_departments.csv\")\n",
    "facilities = pd.read_csv(r\"C:\\Users\\Dell\\OneDrive\\Desktop\\KaranCodes\\Datacampcourses\\Associate-Data-Scientist-Python-Track\\resources\\joiningdatawithpandas\\department_facilities.csv\")\n",
    "\n",
    "# Merge the departments and facilities tables on the dept_id column\n",
    "departments_facilities = departments.merge(facilities, on='department_id', suffixes=('_dept', '_fac'))\n",
    "\n",
    "# Print the shape of departments_facilities\n",
    "print('departments_facilities table shape:', departments_facilities.shape)\n",
    "\n",
    "# Print the original tables\n",
    "print(departments.head(4))\n",
    "print(facilities.head(4))"
   ]
  },
  {
   "cell_type": "markdown",
   "id": "088f49a1",
   "metadata": {},
   "source": [
    "## One to many relationships\n",
    "- In a one-to-many merge, a single row in the left table can match multiple rows in the right table.\n",
    "- During the merge:\n",
    "  - The left table’s row is repeated for each matching row in the right table."
   ]
  },
  {
   "cell_type": "markdown",
   "id": "75a1ed47",
   "metadata": {},
   "source": []
  }
 ],
 "metadata": {
  "kernelspec": {
   "display_name": "env",
   "language": "python",
   "name": "python3"
  },
  "language_info": {
   "codemirror_mode": {
    "name": "ipython",
    "version": 3
   },
   "file_extension": ".py",
   "mimetype": "text/x-python",
   "name": "python",
   "nbconvert_exporter": "python",
   "pygments_lexer": "ipython3",
   "version": "3.12.6"
  }
 },
 "nbformat": 4,
 "nbformat_minor": 5
}
