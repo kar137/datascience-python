{
 "cells": [
  {
   "cell_type": "markdown",
   "id": "ea68acf6",
   "metadata": {},
   "source": [
    "# Introduction to DataFrames\n",
    "- Pandas is basically built on top of numpy and matplotlib.\n",
    "- Pandas is designed to work with rectangular data such as in 2D numpy array.\n",
    "- This rectangular data is represented as the DataFrame object.\n",
    "## Exploring DataFrame\n",
    "1. .head() -> Returns first few rows of DataFrame.\n",
    "2. .info() -> displays names of columns, datatypes and so on.\n",
    "3. .shape -> Returns rows and columns.\n",
    "4. .describe() -> Computes some summary statistics.\n",
    "5. .values, .columns and .index"
   ]
  },
  {
   "cell_type": "code",
   "execution_count": 2,
   "id": "a277271a",
   "metadata": {},
   "outputs": [
    {
     "name": "stdout",
     "output_type": "stream",
     "text": [
      "   student_id first_name last_name  age  gender             major  gpa  \\\n",
      "0           1       John       Doe   20    Male  Computer Science  3.5   \n",
      "1           2       Emma     Smith   22  Female          Business  3.8   \n",
      "2           3       Noah   Johnson   19    Male       Engineering  3.2   \n",
      "3           4        Ava  Williams   21  Female       Mathematics  3.7   \n",
      "4           5       Liam     Brown   20    Male           Physics  3.1   \n",
      "5           6     Olivia     Jones   23  Female        Psychology  3.9   \n",
      "6           7      Mason    Garcia   18    Male           Biology  2.9   \n",
      "\n",
      "   credits_completed  \n",
      "0                 60  \n",
      "1                 90  \n",
      "2                 45  \n",
      "3                 80  \n",
      "4                 55  \n",
      "5                100  \n",
      "6                 30  \n",
      "<class 'pandas.core.frame.DataFrame'>\n",
      "RangeIndex: 50 entries, 0 to 49\n",
      "Data columns (total 8 columns):\n",
      " #   Column             Non-Null Count  Dtype  \n",
      "---  ------             --------------  -----  \n",
      " 0   student_id         50 non-null     int64  \n",
      " 1   first_name         50 non-null     object \n",
      " 2   last_name          50 non-null     object \n",
      " 3   age                50 non-null     int64  \n",
      " 4   gender             50 non-null     object \n",
      " 5   major              50 non-null     object \n",
      " 6   gpa                50 non-null     float64\n",
      " 7   credits_completed  50 non-null     int64  \n",
      "dtypes: float64(1), int64(3), object(4)\n",
      "memory usage: 3.3+ KB\n",
      "None\n",
      "(50, 8)\n",
      "       student_id        age        gpa  credits_completed\n",
      "count    50.00000  50.000000  50.000000          50.000000\n",
      "mean     25.50000  20.660000   3.378000          69.300000\n",
      "std      14.57738   1.408574   0.338237          19.665831\n",
      "min       1.00000  18.000000   2.700000          30.000000\n",
      "25%      13.25000  20.000000   3.100000          55.000000\n",
      "50%      25.50000  21.000000   3.450000          70.000000\n",
      "75%      37.75000  22.000000   3.600000          85.000000\n",
      "max      50.00000  23.000000   3.900000         100.000000\n"
     ]
    }
   ],
   "source": [
    "import pandas as pd\n",
    "\n",
    "students = pd.read_csv(r'C:\\Users\\Dell\\OneDrive\\Desktop\\KaranCodes\\Datacampcourses\\Associate-Data-Scientist-Python-Track\\resources\\DatamanipulationwithPandas-datasets\\students.csv')\n",
    "\n",
    "# View the top 7 rows of the students data\n",
    "print(students.head(7))\n",
    "\n",
    "# Print concise summary of students\n",
    "print(students.info())\n",
    "\n",
    "# Check the size (rows, columns) of students\n",
    "print(students.shape)\n",
    "\n",
    "# Show the statistical description of numerical columns in students\n",
    "print(students.describe())"
   ]
  },
  {
   "cell_type": "code",
   "execution_count": 3,
   "id": "42222a34",
   "metadata": {},
   "outputs": [
    {
     "name": "stdout",
     "output_type": "stream",
     "text": [
      "[[1 'John' 'Doe' 20 'Male' 'Computer Science' 3.5 60]\n",
      " [2 'Emma' 'Smith' 22 'Female' 'Business' 3.8 90]\n",
      " [3 'Noah' 'Johnson' 19 'Male' 'Engineering' 3.2 45]\n",
      " [4 'Ava' 'Williams' 21 'Female' 'Mathematics' 3.7 80]\n",
      " [5 'Liam' 'Brown' 20 'Male' 'Physics' 3.1 55]\n",
      " [6 'Olivia' 'Jones' 23 'Female' 'Psychology' 3.9 100]\n",
      " [7 'Mason' 'Garcia' 18 'Male' 'Biology' 2.9 30]\n",
      " [8 'Sophia' 'Miller' 22 'Female' 'History' 3.4 85]\n",
      " [9 'James' 'Davis' 21 'Male' 'Economics' 3.3 75]\n",
      " [10 'Isabella' 'Martinez' 20 'Female' 'Political Science' 3.6 65]\n",
      " [11 'Ethan' 'Lopez' 22 'Male' 'Chemistry' 3.0 70]\n",
      " [12 'Mia' 'Gonzalez' 19 'Female' 'Literature' 3.5 50]\n",
      " [13 'Lucas' 'Wilson' 20 'Male' 'Mechanical Engineering' 2.8 55]\n",
      " [14 'Charlotte' 'Anderson' 21 'Female' 'Education' 3.7 80]\n",
      " [15 'Logan' 'Thomas' 23 'Male' 'Computer Science' 3.6 95]\n",
      " [16 'Amelia' 'Taylor' 18 'Female' 'Business' 3.2 40]\n",
      " [17 'Alexander' 'Moore' 20 'Male' 'Engineering' 3.1 60]\n",
      " [18 'Evelyn' 'Jackson' 21 'Female' 'Mathematics' 3.8 85]\n",
      " [19 'Elijah' 'Martin' 19 'Male' 'Physics' 2.7 35]\n",
      " [20 'Harper' 'Lee' 22 'Female' 'Psychology' 3.9 95]\n",
      " [21 'Benjamin' 'Perez' 21 'Male' 'Biology' 3.4 70]\n",
      " [22 'Abigail' 'White' 20 'Female' 'History' 3.3 65]\n",
      " [23 'Henry' 'Harris' 22 'Male' 'Economics' 3.5 90]\n",
      " [24 'Emily' 'Sanchez' 19 'Female' 'Political Science' 3.6 50]\n",
      " [25 'Daniel' 'Clark' 20 'Male' 'Chemistry' 2.9 55]\n",
      " [26 'Elizabeth' 'Ramirez' 21 'Female' 'Literature' 3.7 80]\n",
      " [27 'Matthew' 'Lewis' 23 'Male' 'Mechanical Engineering' 3.2 100]\n",
      " [28 'Sofia' 'Robinson' 18 'Female' 'Education' 3.5 30]\n",
      " [29 'Jackson' 'Walker' 22 'Male' 'Computer Science' 3.1 85]\n",
      " [30 'Avery' 'Young' 20 'Female' 'Business' 3.8 70]\n",
      " [31 'Samuel' 'Allen' 21 'Male' 'Engineering' 3.4 80]\n",
      " [32 'Ella' 'King' 20 'Female' 'Mathematics' 3.5 60]\n",
      " [33 'David' 'Wright' 22 'Male' 'Physics' 3.0 85]\n",
      " [34 'Scarlett' 'Scott' 19 'Female' 'Psychology' 3.9 45]\n",
      " [35 'Joseph' 'Green' 21 'Male' 'Biology' 2.7 75]\n",
      " [36 'Victoria' 'Baker' 23 'Female' 'History' 3.6 100]\n",
      " [37 'Carter' 'Adams' 20 'Male' 'Economics' 3.2 65]\n",
      " [38 'Grace' 'Nelson' 22 'Female' 'Political Science' 3.7 90]\n",
      " [39 'Owen' 'Hill' 19 'Male' 'Chemistry' 2.8 40]\n",
      " [40 'Chloe' 'Ramsey' 20 'Female' 'Literature' 3.4 55]\n",
      " [41 'Wyatt' 'Campbell' 21 'Male' 'Mechanical Engineering' 3.5 70]\n",
      " [42 'Penelope' 'Mitchell' 22 'Female' 'Education' 3.6 85]\n",
      " [43 'Jack' 'Carter' 19 'Male' 'Computer Science' 3.1 45]\n",
      " [44 'Riley' 'Roberts' 20 'Female' 'Business' 3.7 60]\n",
      " [45 'Julian' 'Gomez' 22 'Male' 'Engineering' 2.9 90]\n",
      " [46 'Lily' 'Phillips' 23 'Female' 'Mathematics' 3.8 100]\n",
      " [47 'Levi' 'Evans' 21 'Male' 'Physics' 3.0 75]\n",
      " [48 'Hannah' 'Turner' 20 'Female' 'Psychology' 3.6 65]\n",
      " [49 'Isaac' 'Diaz' 19 'Male' 'Biology' 3.3 50]\n",
      " [50 'Zoey' 'Parker' 22 'Female' 'History' 3.5 85]]\n",
      "Index(['student_id', 'first_name', 'last_name', 'age', 'gender', 'major',\n",
      "       'gpa', 'credits_completed'],\n",
      "      dtype='object')\n",
      "RangeIndex(start=0, stop=50, step=1)\n"
     ]
    }
   ],
   "source": [
    "# Print the values of homelessness\n",
    "print(students.values)\n",
    "\n",
    "# Print the column index of homelessness\n",
    "print(students.columns)\n",
    "\n",
    "# Print the row index of homelessness\n",
    "print(students.index)"
   ]
  },
  {
   "cell_type": "markdown",
   "id": "aca23aa8",
   "metadata": {},
   "source": [
    "## Sorting rows\n",
    "- We can sort rows with sort_values() method."
   ]
  },
  {
   "cell_type": "code",
   "execution_count": 7,
   "id": "95de1a4e",
   "metadata": {},
   "outputs": [
    {
     "name": "stdout",
     "output_type": "stream",
     "text": [
      "    student_id first_name last_name  age  gender        major  gpa  \\\n",
      "21          22    Abigail     White   20  Female      History  3.3   \n",
      "16          17  Alexander     Moore   20    Male  Engineering  3.1   \n",
      "15          16     Amelia    Taylor   18  Female     Business  3.2   \n",
      "3            4        Ava  Williams   21  Female  Mathematics  3.7   \n",
      "29          30      Avery     Young   20  Female     Business  3.8   \n",
      "\n",
      "    credits_completed  \n",
      "21                 65  \n",
      "16                 60  \n",
      "15                 40  \n",
      "3                  80  \n",
      "29                 70  \n"
     ]
    }
   ],
   "source": [
    "# Sort students by first_name\n",
    "students_ind = students.sort_values(\"first_name\")\n",
    "\n",
    "# Print the top few rows\n",
    "print(students_ind.head())"
   ]
  },
  {
   "cell_type": "code",
   "execution_count": 6,
   "id": "bc3f4d16",
   "metadata": {},
   "outputs": [
    {
     "name": "stdout",
     "output_type": "stream",
     "text": [
      "    student_id first_name last_name  age  gender        major  gpa  \\\n",
      "5            6     Olivia     Jones   23  Female   Psychology  3.9   \n",
      "19          20     Harper       Lee   22  Female   Psychology  3.9   \n",
      "33          34   Scarlett     Scott   19  Female   Psychology  3.9   \n",
      "29          30      Avery     Young   20  Female     Business  3.8   \n",
      "17          18     Evelyn   Jackson   21  Female  Mathematics  3.8   \n",
      "\n",
      "    credits_completed  \n",
      "5                 100  \n",
      "19                 95  \n",
      "33                 45  \n",
      "29                 70  \n",
      "17                 85  \n"
     ]
    }
   ],
   "source": [
    "# Sort Students by descending gpa\n",
    "student_grades = students.sort_values(\"gpa\", ascending=False)\n",
    "\n",
    "print(student_grades.head())"
   ]
  },
  {
   "cell_type": "markdown",
   "id": "43a696be",
   "metadata": {},
   "source": [
    "### Subsetting multiple rows"
   ]
  },
  {
   "cell_type": "code",
   "execution_count": 9,
   "id": "5f1c3a71",
   "metadata": {},
   "outputs": [
    {
     "name": "stdout",
     "output_type": "stream",
     "text": [
      "    student_id first_name last_name  age gender                   major  gpa  \\\n",
      "34          35     Joseph     Green   21   Male                 Biology  2.7   \n",
      "18          19     Elijah    Martin   19   Male                 Physics  2.7   \n",
      "12          13      Lucas    Wilson   20   Male  Mechanical Engineering  2.8   \n",
      "38          39       Owen      Hill   19   Male               Chemistry  2.8   \n",
      "44          45     Julian     Gomez   22   Male             Engineering  2.9   \n",
      "\n",
      "    credits_completed  \n",
      "34                 75  \n",
      "18                 35  \n",
      "12                 55  \n",
      "38                 40  \n",
      "44                 90  \n"
     ]
    }
   ],
   "source": [
    "# Sort student_info by gpa, then descending credits_completed\n",
    "student_info = students.sort_values([\"gpa\", \"credits_completed\"],ascending=[True,False])\n",
    "\n",
    "# Print the top few rows\n",
    "print(student_info.head())"
   ]
  },
  {
   "cell_type": "markdown",
   "id": "fa5cb9a9",
   "metadata": {},
   "source": [
    "## Subsetting Columns\n",
    "- To subset columns we use square brackets and column name which is only required."
   ]
  },
  {
   "cell_type": "code",
   "execution_count": 10,
   "id": "2222b6e1",
   "metadata": {},
   "outputs": [
    {
     "name": "stdout",
     "output_type": "stream",
     "text": [
      "0    60\n",
      "1    90\n",
      "2    45\n",
      "3    80\n",
      "4    55\n",
      "Name: credits_completed, dtype: int64\n"
     ]
    }
   ],
   "source": [
    "# Select the credits_completed column\n",
    "credits = students[\"credits_completed\"]\n",
    "\n",
    "print(credits.head())"
   ]
  },
  {
   "cell_type": "code",
   "execution_count": 11,
   "id": "8101159e",
   "metadata": {},
   "outputs": [
    {
     "name": "stdout",
     "output_type": "stream",
     "text": [
      "   gpa  credits_completed\n",
      "0  3.5                 60\n",
      "1  3.8                 90\n",
      "2  3.2                 45\n",
      "3  3.7                 80\n",
      "4  3.1                 55\n"
     ]
    }
   ],
   "source": [
    "student_info = students[[\"gpa\", \"credits_completed\"]]\n",
    "\n",
    "# Print the top few rows\n",
    "print(student_info.head())"
   ]
  },
  {
   "cell_type": "markdown",
   "id": "e861a268",
   "metadata": {},
   "source": [
    "## Use relational operators to subset or filter row"
   ]
  },
  {
   "cell_type": "code",
   "execution_count": 13,
   "id": "9a047e37",
   "metadata": {},
   "outputs": [
    {
     "name": "stdout",
     "output_type": "stream",
     "text": [
      "    student_id first_name last_name  age  gender       major  gpa  \\\n",
      "5            6     Olivia     Jones   23  Female  Psychology  3.9   \n",
      "19          20     Harper       Lee   22  Female  Psychology  3.9   \n",
      "33          34   Scarlett     Scott   19  Female  Psychology  3.9   \n",
      "\n",
      "    credits_completed  \n",
      "5                 100  \n",
      "19                 95  \n",
      "33                 45  \n"
     ]
    }
   ],
   "source": [
    "# Filter for rows where individuals is greater than 10000\n",
    "topper_students = students[students[\"gpa\"] > 3.8]\n",
    "\n",
    "# See the result\n",
    "print(topper_students)"
   ]
  },
  {
   "cell_type": "code",
   "execution_count": 15,
   "id": "be264022",
   "metadata": {},
   "outputs": [
    {
     "name": "stdout",
     "output_type": "stream",
     "text": [
      "    student_id first_name last_name  age gender        major  gpa  \\\n",
      "30          31     Samuel     Allen   21   Male  Engineering  3.4   \n",
      "44          45     Julian     Gomez   22   Male  Engineering  2.9   \n",
      "\n",
      "    credits_completed  \n",
      "30                 80  \n",
      "44                 90  \n"
     ]
    }
   ],
   "source": [
    "adult_male_student = students[(students[\"age\"]>20) & (students[\"gender\"]==\"Male\") & (students[\"major\"]==\"Engineering\")]\n",
    "\n",
    "print(adult_male_student)"
   ]
  },
  {
   "cell_type": "markdown",
   "id": "82154691",
   "metadata": {},
   "source": [
    "## Subsetting rows by categorical variables\n",
    "- Subsetting data based on a categorical variable often uses the or operator (|) to select rows from multiple categories.\n",
    "- A better alternative is to use the .isin() method, which simplifies the condition.\n",
    "- With .isin(), we can check if values belong to a list of categories in one condition instead of writing multiple separate conditions."
   ]
  },
  {
   "cell_type": "code",
   "execution_count": 3,
   "id": "359783e5",
   "metadata": {},
   "outputs": [
    {
     "name": "stdout",
     "output_type": "stream",
     "text": [
      "   student_id first_name last_name  age  gender             major  gpa  \\\n",
      "0           1       John       Doe   20    Male  Computer Science  3.5   \n",
      "2           3       Noah   Johnson   19    Male       Engineering  3.2   \n",
      "3           4        Ava  Williams   21  Female       Mathematics  3.7   \n",
      "4           5       Liam     Brown   20    Male           Physics  3.1   \n",
      "6           7      Mason    Garcia   18    Male           Biology  2.9   \n",
      "\n",
      "   credits_completed  \n",
      "0                 60  \n",
      "2                 45  \n",
      "3                 80  \n",
      "4                 55  \n",
      "6                 30  \n"
     ]
    }
   ],
   "source": [
    "import pandas as pd\n",
    "\n",
    "# Load the students dataset\n",
    "students = pd.read_csv(r'C:\\Users\\Dell\\OneDrive\\Desktop\\KaranCodes\\Datacampcourses\\Associate-Data-Scientist-Python-Track\\resources\\DatamanipulationwithPandas-datasets\\students.csv')\n",
    "\n",
    "# Define science-related majors\n",
    "science_majors = [\"Computer Science\", \"Physics\", \"Biology\", \"Chemistry\", \"Engineering\", \"Mathematics\"]\n",
    "\n",
    "# Filter for students who are in science majors\n",
    "science_students = students[students[\"major\"].isin(science_majors)]\n",
    "\n",
    "# Show the result\n",
    "print(science_students.head())"
   ]
  },
  {
   "cell_type": "markdown",
   "id": "eda230ba",
   "metadata": {},
   "source": [
    "## New columns\n",
    "### Adding new columns"
   ]
  },
  {
   "cell_type": "markdown",
   "id": "55e4b91b",
   "metadata": {},
   "source": [
    "- We can add new columns to a DataFrame, we're not limited to the existing data.\n",
    "- This process is also known as transforming, mutating, or feature engineering.\n",
    "- New columns can be:\n",
    "  - Created from scratch.\n",
    "  - Derived from existing columns by:\n",
    "    - Adding columns together.\n",
    "    - Changing the units of existing data."
   ]
  },
  {
   "cell_type": "code",
   "execution_count": 5,
   "id": "e6119c72",
   "metadata": {},
   "outputs": [
    {
     "name": "stdout",
     "output_type": "stream",
     "text": [
      "   student_id first_name last_name  age  gender             major  gpa  \\\n",
      "0           1       John       Doe   20    Male  Computer Science  3.5   \n",
      "1           2       Emma     Smith   22  Female          Business  3.8   \n",
      "2           3       Noah   Johnson   19    Male       Engineering  3.2   \n",
      "3           4        Ava  Williams   21  Female       Mathematics  3.7   \n",
      "4           5       Liam     Brown   20    Male           Physics  3.1   \n",
      "\n",
      "   credits_completed  performance_score  p_credits  \n",
      "0                 60              210.0   0.500000  \n",
      "1                 90              342.0   0.750000  \n",
      "2                 45              144.0   0.375000  \n",
      "3                 80              296.0   0.666667  \n",
      "4                 55              170.5   0.458333  \n"
     ]
    }
   ],
   "source": [
    "# Add a new column 'performance_score' as GPA multiplied by credits_completed\n",
    "students[\"performance_score\"] = students[\"gpa\"] * students[\"credits_completed\"]\n",
    "\n",
    "# Add a new column 'p_credits' as proportion of credits completed out of 120 (assuming 120 credits needed for graduation)\n",
    "students[\"p_credits\"] = students[\"credits_completed\"] / 120\n",
    "\n",
    "# See the result\n",
    "print(students.head())"
   ]
  },
  {
   "cell_type": "markdown",
   "id": "1ee9ea9b",
   "metadata": {},
   "source": [
    "### Multiple manipulations"
   ]
  },
  {
   "cell_type": "code",
   "execution_count": 7,
   "id": "77d26095",
   "metadata": {},
   "outputs": [
    {
     "name": "stdout",
     "output_type": "stream",
     "text": [
      "   first_name last_name  gpa_per_credit\n",
      "27      Sofia  Robinson        0.116667\n",
      "6       Mason    Garcia        0.096667\n",
      "33   Scarlett     Scott        0.086667\n",
      "15     Amelia    Taylor        0.080000\n",
      "18     Elijah    Martin        0.077143\n"
     ]
    }
   ],
   "source": [
    "# Create gpa_per_credit column as GPA divided by credits_completed\n",
    "students[\"gpa_per_credit\"] = students[\"gpa\"] / students[\"credits_completed\"]\n",
    "\n",
    "# Subset rows where gpa_per_credit is greater than 0.05\n",
    "high_efficiency_students = students[students[\"gpa_per_credit\"] > 0.05]\n",
    "\n",
    "# Sort high_efficiency_students by descending gpa_per_credit\n",
    "high_efficiency_sorted = high_efficiency_students.sort_values(\"gpa_per_credit\", ascending=False)\n",
    "\n",
    "# From high_efficiency_sorted, select first_name, last_name, and gpa_per_credit columns\n",
    "result = high_efficiency_sorted[[\"first_name\", \"last_name\", \"gpa_per_credit\"]]\n",
    "\n",
    "# See the result\n",
    "print(result.head())"
   ]
  }
 ],
 "metadata": {
  "kernelspec": {
   "display_name": "Python (env)",
   "language": "python",
   "name": "env"
  },
  "language_info": {
   "codemirror_mode": {
    "name": "ipython",
    "version": 3
   },
   "file_extension": ".py",
   "mimetype": "text/x-python",
   "name": "python",
   "nbconvert_exporter": "python",
   "pygments_lexer": "ipython3",
   "version": "3.12.6"
  }
 },
 "nbformat": 4,
 "nbformat_minor": 5
}
