{
 "cells": [
  {
   "cell_type": "markdown",
   "id": "d2ea1e2d",
   "metadata": {},
   "source": [
    "# Aggregating data\n",
    "## Summary Statistics\n",
    "- Summary statistics summarize many numbers into a single statistic.\n",
    "- Examples of summary statistics include:\n",
    "  - Mean, Median, Minimum, Maximum, Standard deviation\n",
    "- Calculating summary statistics helps you:\n",
    "  - Understand your data better.\n",
    "  - Handle large datasets more easily by extracting key insights."
   ]
  },
  {
   "cell_type": "code",
   "execution_count": 1,
   "id": "b2f5406b",
   "metadata": {},
   "outputs": [
    {
     "name": "stdout",
     "output_type": "stream",
     "text": [
      "   student_id first_name last_name  age  gender             major  gpa  \\\n",
      "0           1       John       Doe   20    Male  Computer Science  3.5   \n",
      "1           2       Emma     Smith   22  Female          Business  3.8   \n",
      "2           3       Noah   Johnson   19    Male       Engineering  3.2   \n",
      "3           4        Ava  Williams   21  Female       Mathematics  3.7   \n",
      "4           5       Liam     Brown   20    Male           Physics  3.1   \n",
      "\n",
      "   credits_completed  \n",
      "0                 60  \n",
      "1                 90  \n",
      "2                 45  \n",
      "3                 80  \n",
      "4                 55  \n",
      "<class 'pandas.core.frame.DataFrame'>\n",
      "RangeIndex: 50 entries, 0 to 49\n",
      "Data columns (total 8 columns):\n",
      " #   Column             Non-Null Count  Dtype  \n",
      "---  ------             --------------  -----  \n",
      " 0   student_id         50 non-null     int64  \n",
      " 1   first_name         50 non-null     object \n",
      " 2   last_name          50 non-null     object \n",
      " 3   age                50 non-null     int64  \n",
      " 4   gender             50 non-null     object \n",
      " 5   major              50 non-null     object \n",
      " 6   gpa                50 non-null     float64\n",
      " 7   credits_completed  50 non-null     int64  \n",
      "dtypes: float64(1), int64(3), object(4)\n",
      "memory usage: 3.3+ KB\n",
      "None\n",
      "3.378\n",
      "3.45\n"
     ]
    }
   ],
   "source": [
    "import pandas as pd\n",
    "\n",
    "# Load the students dataset\n",
    "students = pd.read_csv(r'C:\\Users\\Dell\\OneDrive\\Desktop\\KaranCodes\\Datacampcourses\\Associate-Data-Scientist-Python-Track\\resources\\DatamanipulationwithPandas-datasets\\students.csv')\n",
    "\n",
    "# Print the first few rows of the students DataFrame\n",
    "print(students.head())\n",
    "\n",
    "# Print information about the students DataFrame\n",
    "print(students.info())\n",
    "\n",
    "# Print the mean GPA of students\n",
    "print(students[\"gpa\"].mean())\n",
    "\n",
    "# Print the median GPA of students\n",
    "print(students[\"gpa\"].median())"
   ]
  },
  {
   "cell_type": "code",
   "execution_count": 2,
   "id": "efa18f27",
   "metadata": {},
   "outputs": [
    {
     "name": "stdout",
     "output_type": "stream",
     "text": [
      "23\n",
      "18\n"
     ]
    }
   ],
   "source": [
    "# Print the maximum age of students\n",
    "print(students[\"age\"].max())\n",
    "\n",
    "# Print the minimum age of students\n",
    "print(students[\"age\"].min())"
   ]
  },
  {
   "cell_type": "markdown",
   "id": "750bbe66",
   "metadata": {},
   "source": [
    "## Aggregating custom summary statistics function\n",
    "- Pandas and NumPy offer many built-in functions for data summarization.\n",
    "- Sometimes, you may need a custom function to summarize your data.\n",
    "- The .agg() method allows you to:\n",
    "  - Apply custom functions to a DataFrame.\n",
    "  - Apply functions to multiple columns at once, making aggregation more efficient.\n",
    "- Syntax example:\n",
    "  - df['column'].agg(function)\n",
    "- Custom function example:\n",
    "  - IQR (Inter-Quartile Range) = 75th percentile − 25th percentile.\n",
    "- IQR is a robust alternative to standard deviation, especially when the dataset has outliers."
   ]
  },
  {
   "cell_type": "code",
   "execution_count": 3,
   "id": "f720f5ac",
   "metadata": {},
   "outputs": [
    {
     "name": "stdout",
     "output_type": "stream",
     "text": [
      "age                   2.0\n",
      "gpa                   0.5\n",
      "credits_completed    30.0\n",
      "dtype: float64\n"
     ]
    }
   ],
   "source": [
    "def iqr(column):\n",
    "    return column.quantile(0.75) - column.quantile(0.25)\n",
    "\n",
    "# Apply IQR function to 'age', 'gpa', and 'credits_completed' columns\n",
    "print(students[[\"age\", \"gpa\", \"credits_completed\"]].agg(iqr))"
   ]
  },
  {
   "cell_type": "code",
   "execution_count": 7,
   "id": "bdf9ef30",
   "metadata": {},
   "outputs": [
    {
     "name": "stdout",
     "output_type": "stream",
     "text": [
      "         age   gpa  credits_completed\n",
      "iqr      2.0  0.50               30.0\n",
      "median  21.0  3.45               70.0\n"
     ]
    }
   ],
   "source": [
    "def iqr(column):\n",
    "    return column.quantile(0.75) - column.quantile(0.25)\n",
    "\n",
    "# Apply IQR and median to 'age', 'gpa', and 'credits_completed'\n",
    "print(students[[\"age\", \"gpa\", \"credits_completed\"]].agg([iqr, \"median\"]))"
   ]
  },
  {
   "cell_type": "markdown",
   "id": "646b717b",
   "metadata": {},
   "source": [
    "## Cumulative statistics\n",
    "- Cumulative statistics can also be helpful in tracking summary statistics over time."
   ]
  },
  {
   "cell_type": "code",
   "execution_count": 11,
   "id": "95d613dc",
   "metadata": {},
   "outputs": [
    {
     "name": "stdout",
     "output_type": "stream",
     "text": [
      "   first_name  credits_completed  cum_credits_completed  gpa  cum_max_gpa\n",
      "6       Mason                 30                     30  2.9          2.9\n",
      "15     Amelia                 40                     70  3.2          3.2\n",
      "27      Sofia                 30                    100  3.5          3.5\n",
      "11        Mia                 50                    150  3.5          3.5\n",
      "18     Elijah                 35                    185  2.7          3.5\n",
      "23      Emily                 50                    235  3.6          3.6\n",
      "2        Noah                 45                    280  3.2          3.6\n",
      "33   Scarlett                 45                    325  3.9          3.9\n",
      "48      Isaac                 50                    375  3.3          3.9\n",
      "42       Jack                 45                    420  3.1          3.9\n",
      "38       Owen                 40                    460  2.8          3.9\n",
      "29      Avery                 70                    530  3.8          3.9\n",
      "16  Alexander                 60                    590  3.1          3.9\n",
      "24     Daniel                 55                    645  2.9          3.9\n",
      "31       Ella                 60                    705  3.5          3.9\n",
      "9    Isabella                 65                    770  3.6          3.9\n",
      "36     Carter                 65                    835  3.2          3.9\n",
      "39      Chloe                 55                    890  3.4          3.9\n",
      "47     Hannah                 65                    955  3.6          3.9\n",
      "43      Riley                 60                   1015  3.7          3.9\n",
      "21    Abigail                 65                   1080  3.3          3.9\n",
      "12      Lucas                 55                   1135  2.8          3.9\n",
      "4        Liam                 55                   1190  3.1          3.9\n",
      "0        John                 60                   1250  3.5          3.9\n",
      "30     Samuel                 80                   1330  3.4          3.9\n",
      "25  Elizabeth                 80                   1410  3.7          3.9\n",
      "17     Evelyn                 85                   1495  3.8          3.9\n",
      "20   Benjamin                 70                   1565  3.4          3.9\n",
      "8       James                 75                   1640  3.3          3.9\n",
      "3         Ava                 80                   1720  3.7          3.9\n",
      "13  Charlotte                 80                   1800  3.7          3.9\n",
      "46       Levi                 75                   1875  3.0          3.9\n",
      "34     Joseph                 75                   1950  2.7          3.9\n",
      "40      Wyatt                 70                   2020  3.5          3.9\n",
      "1        Emma                 90                   2110  3.8          3.9\n",
      "28    Jackson                 85                   2195  3.1          3.9\n",
      "10      Ethan                 70                   2265  3.0          3.9\n",
      "7      Sophia                 85                   2350  3.4          3.9\n",
      "19     Harper                 95                   2445  3.9          3.9\n",
      "22      Henry                 90                   2535  3.5          3.9\n",
      "44     Julian                 90                   2625  2.9          3.9\n",
      "41   Penelope                 85                   2710  3.6          3.9\n",
      "49       Zoey                 85                   2795  3.5          3.9\n",
      "32      David                 85                   2880  3.0          3.9\n",
      "37      Grace                 90                   2970  3.7          3.9\n",
      "26    Matthew                100                   3070  3.2          3.9\n",
      "5      Olivia                100                   3170  3.9          3.9\n",
      "14      Logan                 95                   3265  3.6          3.9\n",
      "45       Lily                100                   3365  3.8          3.9\n",
      "35   Victoria                100                   3465  3.6          3.9\n"
     ]
    }
   ],
   "source": [
    "# Sort students by age\n",
    "students = students.sort_values(\"age\")\n",
    "\n",
    "# Get the cumulative sum of credits_completed, add as cum_credits_completed column\n",
    "students[\"cum_credits_completed\"] = students[\"credits_completed\"].cumsum()\n",
    "\n",
    "# Get the cumulative max of GPA, add as cum_max_gpa column\n",
    "students[\"cum_max_gpa\"] = students[\"gpa\"].cummax()\n",
    "\n",
    "# See the result\n",
    "print(students[[\"first_name\", \"credits_completed\", \"cum_credits_completed\", \"gpa\", \"cum_max_gpa\"]])"
   ]
  }
 ],
 "metadata": {
  "kernelspec": {
   "display_name": "Python (env)",
   "language": "python",
   "name": "env"
  },
  "language_info": {
   "codemirror_mode": {
    "name": "ipython",
    "version": 3
   },
   "file_extension": ".py",
   "mimetype": "text/x-python",
   "name": "python",
   "nbconvert_exporter": "python",
   "pygments_lexer": "ipython3",
   "version": "3.12.6"
  }
 },
 "nbformat": 4,
 "nbformat_minor": 5
}
