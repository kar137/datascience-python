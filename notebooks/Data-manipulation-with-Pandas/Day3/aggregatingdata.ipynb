{
 "cells": [
  {
   "cell_type": "markdown",
   "id": "d2ea1e2d",
   "metadata": {},
   "source": [
    "# Aggregating data\n",
    "## Summary Statistics\n",
    "- Summary statistics summarize many numbers into a single statistic.\n",
    "- Examples of summary statistics include:\n",
    "  - Mean, Median, Minimum, Maximum, Standard deviation\n",
    "- Calculating summary statistics helps you:\n",
    "  - Understand your data better.\n",
    "  - Handle large datasets more easily by extracting key insights."
   ]
  },
  {
   "cell_type": "code",
   "execution_count": 1,
   "id": "b2f5406b",
   "metadata": {},
   "outputs": [
    {
     "name": "stdout",
     "output_type": "stream",
     "text": [
      "   student_id first_name last_name  age  gender             major  gpa  \\\n",
      "0           1       John       Doe   20    Male  Computer Science  3.5   \n",
      "1           2       Emma     Smith   22  Female          Business  3.8   \n",
      "2           3       Noah   Johnson   19    Male       Engineering  3.2   \n",
      "3           4        Ava  Williams   21  Female       Mathematics  3.7   \n",
      "4           5       Liam     Brown   20    Male           Physics  3.1   \n",
      "\n",
      "   credits_completed  \n",
      "0                 60  \n",
      "1                 90  \n",
      "2                 45  \n",
      "3                 80  \n",
      "4                 55  \n",
      "<class 'pandas.core.frame.DataFrame'>\n",
      "RangeIndex: 50 entries, 0 to 49\n",
      "Data columns (total 8 columns):\n",
      " #   Column             Non-Null Count  Dtype  \n",
      "---  ------             --------------  -----  \n",
      " 0   student_id         50 non-null     int64  \n",
      " 1   first_name         50 non-null     object \n",
      " 2   last_name          50 non-null     object \n",
      " 3   age                50 non-null     int64  \n",
      " 4   gender             50 non-null     object \n",
      " 5   major              50 non-null     object \n",
      " 6   gpa                50 non-null     float64\n",
      " 7   credits_completed  50 non-null     int64  \n",
      "dtypes: float64(1), int64(3), object(4)\n",
      "memory usage: 3.3+ KB\n",
      "None\n",
      "3.378\n",
      "3.45\n"
     ]
    }
   ],
   "source": [
    "import pandas as pd\n",
    "\n",
    "# Load the students dataset\n",
    "students = pd.read_csv(r'C:\\Users\\Dell\\OneDrive\\Desktop\\KaranCodes\\Datacampcourses\\Associate-Data-Scientist-Python-Track\\resources\\DatamanipulationwithPandas-datasets\\students.csv')\n",
    "\n",
    "# Print the first few rows of the students DataFrame\n",
    "print(students.head())\n",
    "\n",
    "# Print information about the students DataFrame\n",
    "print(students.info())\n",
    "\n",
    "# Print the mean GPA of students\n",
    "print(students[\"gpa\"].mean())\n",
    "\n",
    "# Print the median GPA of students\n",
    "print(students[\"gpa\"].median())"
   ]
  },
  {
   "cell_type": "code",
   "execution_count": 2,
   "id": "efa18f27",
   "metadata": {},
   "outputs": [
    {
     "name": "stdout",
     "output_type": "stream",
     "text": [
      "23\n",
      "18\n"
     ]
    }
   ],
   "source": [
    "# Print the maximum age of students\n",
    "print(students[\"age\"].max())\n",
    "\n",
    "# Print the minimum age of students\n",
    "print(students[\"age\"].min())"
   ]
  },
  {
   "cell_type": "markdown",
   "id": "750bbe66",
   "metadata": {},
   "source": [
    "## Aggregating custom summary statistics function\n",
    "- Pandas and NumPy offer many built-in functions for data summarization.\n",
    "- Sometimes, you may need a custom function to summarize your data.\n",
    "- The .agg() method allows you to:\n",
    "  - Apply custom functions to a DataFrame.\n",
    "  - Apply functions to multiple columns at once, making aggregation more efficient.\n",
    "- Syntax example:\n",
    "  - df['column'].agg(function)\n",
    "- Custom function example:\n",
    "  - IQR (Inter-Quartile Range) = 75th percentile − 25th percentile.\n",
    "- IQR is a robust alternative to standard deviation, especially when the dataset has outliers."
   ]
  },
  {
   "cell_type": "code",
   "execution_count": 3,
   "id": "f720f5ac",
   "metadata": {},
   "outputs": [
    {
     "name": "stdout",
     "output_type": "stream",
     "text": [
      "age                   2.0\n",
      "gpa                   0.5\n",
      "credits_completed    30.0\n",
      "dtype: float64\n"
     ]
    }
   ],
   "source": [
    "def iqr(column):\n",
    "    return column.quantile(0.75) - column.quantile(0.25)\n",
    "\n",
    "# Apply IQR function to 'age', 'gpa', and 'credits_completed' columns\n",
    "print(students[[\"age\", \"gpa\", \"credits_completed\"]].agg(iqr))"
   ]
  },
  {
   "cell_type": "code",
   "execution_count": 7,
   "id": "bdf9ef30",
   "metadata": {},
   "outputs": [
    {
     "name": "stdout",
     "output_type": "stream",
     "text": [
      "         age   gpa  credits_completed\n",
      "iqr      2.0  0.50               30.0\n",
      "median  21.0  3.45               70.0\n"
     ]
    }
   ],
   "source": [
    "def iqr(column):\n",
    "    return column.quantile(0.75) - column.quantile(0.25)\n",
    "\n",
    "# Apply IQR and median to 'age', 'gpa', and 'credits_completed'\n",
    "print(students[[\"age\", \"gpa\", \"credits_completed\"]].agg([iqr, \"median\"]))"
   ]
  },
  {
   "cell_type": "markdown",
   "id": "646b717b",
   "metadata": {},
   "source": [
    "## Cumulative statistics\n",
    "- Cumulative statistics can also be helpful in tracking summary statistics over time."
   ]
  },
  {
   "cell_type": "code",
   "execution_count": 11,
   "id": "95d613dc",
   "metadata": {},
   "outputs": [
    {
     "name": "stdout",
     "output_type": "stream",
     "text": [
      "   first_name  credits_completed  cum_credits_completed  gpa  cum_max_gpa\n",
      "6       Mason                 30                     30  2.9          2.9\n",
      "15     Amelia                 40                     70  3.2          3.2\n",
      "27      Sofia                 30                    100  3.5          3.5\n",
      "11        Mia                 50                    150  3.5          3.5\n",
      "18     Elijah                 35                    185  2.7          3.5\n",
      "23      Emily                 50                    235  3.6          3.6\n",
      "2        Noah                 45                    280  3.2          3.6\n",
      "33   Scarlett                 45                    325  3.9          3.9\n",
      "48      Isaac                 50                    375  3.3          3.9\n",
      "42       Jack                 45                    420  3.1          3.9\n",
      "38       Owen                 40                    460  2.8          3.9\n",
      "29      Avery                 70                    530  3.8          3.9\n",
      "16  Alexander                 60                    590  3.1          3.9\n",
      "24     Daniel                 55                    645  2.9          3.9\n",
      "31       Ella                 60                    705  3.5          3.9\n",
      "9    Isabella                 65                    770  3.6          3.9\n",
      "36     Carter                 65                    835  3.2          3.9\n",
      "39      Chloe                 55                    890  3.4          3.9\n",
      "47     Hannah                 65                    955  3.6          3.9\n",
      "43      Riley                 60                   1015  3.7          3.9\n",
      "21    Abigail                 65                   1080  3.3          3.9\n",
      "12      Lucas                 55                   1135  2.8          3.9\n",
      "4        Liam                 55                   1190  3.1          3.9\n",
      "0        John                 60                   1250  3.5          3.9\n",
      "30     Samuel                 80                   1330  3.4          3.9\n",
      "25  Elizabeth                 80                   1410  3.7          3.9\n",
      "17     Evelyn                 85                   1495  3.8          3.9\n",
      "20   Benjamin                 70                   1565  3.4          3.9\n",
      "8       James                 75                   1640  3.3          3.9\n",
      "3         Ava                 80                   1720  3.7          3.9\n",
      "13  Charlotte                 80                   1800  3.7          3.9\n",
      "46       Levi                 75                   1875  3.0          3.9\n",
      "34     Joseph                 75                   1950  2.7          3.9\n",
      "40      Wyatt                 70                   2020  3.5          3.9\n",
      "1        Emma                 90                   2110  3.8          3.9\n",
      "28    Jackson                 85                   2195  3.1          3.9\n",
      "10      Ethan                 70                   2265  3.0          3.9\n",
      "7      Sophia                 85                   2350  3.4          3.9\n",
      "19     Harper                 95                   2445  3.9          3.9\n",
      "22      Henry                 90                   2535  3.5          3.9\n",
      "44     Julian                 90                   2625  2.9          3.9\n",
      "41   Penelope                 85                   2710  3.6          3.9\n",
      "49       Zoey                 85                   2795  3.5          3.9\n",
      "32      David                 85                   2880  3.0          3.9\n",
      "37      Grace                 90                   2970  3.7          3.9\n",
      "26    Matthew                100                   3070  3.2          3.9\n",
      "5      Olivia                100                   3170  3.9          3.9\n",
      "14      Logan                 95                   3265  3.6          3.9\n",
      "45       Lily                100                   3365  3.8          3.9\n",
      "35   Victoria                100                   3465  3.6          3.9\n"
     ]
    }
   ],
   "source": [
    "# Sort students by age\n",
    "students = students.sort_values(\"age\")\n",
    "\n",
    "# Get the cumulative sum of credits_completed, add as cum_credits_completed column\n",
    "students[\"cum_credits_completed\"] = students[\"credits_completed\"].cumsum()\n",
    "\n",
    "# Get the cumulative max of GPA, add as cum_max_gpa column\n",
    "students[\"cum_max_gpa\"] = students[\"gpa\"].cummax()\n",
    "\n",
    "# See the result\n",
    "print(students[[\"first_name\", \"credits_completed\", \"cum_credits_completed\", \"gpa\", \"cum_max_gpa\"]])"
   ]
  },
  {
   "cell_type": "markdown",
   "id": "f9de7c09",
   "metadata": {},
   "source": [
    "## Counting\n",
    "- Counting is used to summarize the categorical data.\n",
    "- We need to avoid double counting.\n",
    "### Dropping duplicate names and pairs\n",
    "- Removing duplicates is essential for getting accurate counts in our data.\n",
    "- Often, we want to avoid counting the same item multiple times."
   ]
  },
  {
   "cell_type": "code",
   "execution_count": 1,
   "id": "f5094f3a",
   "metadata": {},
   "outputs": [
    {
     "name": "stdout",
     "output_type": "stream",
     "text": [
      "   student_id first_name last_name  age  gender             major  gpa  \\\n",
      "0           1       John       Doe   20    Male  Computer Science  3.5   \n",
      "1           2       Emma     Smith   22  Female          Business  3.8   \n",
      "2           3       Noah   Johnson   19    Male       Engineering  3.2   \n",
      "3           4        Ava  Williams   21  Female       Mathematics  3.7   \n",
      "4           5       Liam     Brown   20    Male           Physics  3.1   \n",
      "\n",
      "   credits_completed  \n",
      "0                 60  \n",
      "1                 90  \n",
      "2                 45  \n",
      "3                 80  \n",
      "4                 55  \n",
      "   student_id first_name last_name  age  gender             major  gpa  \\\n",
      "0           1       John       Doe   20    Male  Computer Science  3.5   \n",
      "1           2       Emma     Smith   22  Female          Business  3.8   \n",
      "2           3       Noah   Johnson   19    Male       Engineering  3.2   \n",
      "3           4        Ava  Williams   21  Female       Mathematics  3.7   \n",
      "4           5       Liam     Brown   20    Male           Physics  3.1   \n",
      "\n",
      "   credits_completed  \n",
      "0                 60  \n",
      "1                 90  \n",
      "2                 45  \n",
      "3                 80  \n",
      "4                 55  \n",
      "1        Smith\n",
      "3     Williams\n",
      "5        Jones\n",
      "9     Martinez\n",
      "13    Anderson\n",
      "14      Thomas\n",
      "17     Jackson\n",
      "19         Lee\n",
      "23     Sanchez\n",
      "25     Ramirez\n",
      "29       Young\n",
      "33       Scott\n",
      "35       Baker\n",
      "37      Nelson\n",
      "41    Mitchell\n",
      "43     Roberts\n",
      "45    Phillips\n",
      "47      Turner\n",
      "Name: last_name, dtype: object\n"
     ]
    }
   ],
   "source": [
    "import pandas as pd\n",
    "\n",
    "# Load the students dataset\n",
    "students = pd.read_csv(r'C:\\Users\\Dell\\OneDrive\\Desktop\\KaranCodes\\Datacampcourses\\Associate-Data-Scientist-Python-Track\\resources\\DatamanipulationwithPandas-datasets\\students.csv')\n",
    "\n",
    "# Drop duplicate first_name/major combinations\n",
    "student_majors = students.drop_duplicates(subset=[\"first_name\", \"major\"])\n",
    "print(student_majors.head())\n",
    "\n",
    "# Drop duplicate first_name/age combinations\n",
    "student_ages = students.drop_duplicates(subset=[\"first_name\", \"age\"])\n",
    "print(student_ages.head())\n",
    "\n",
    "# Subset the students who have gpa > 3.5 (honor students) and drop duplicate last names\n",
    "honor_students = students[students[\"gpa\"] > 3.5].drop_duplicates(subset=[\"last_name\"])\n",
    "\n",
    "# Print last_name column of honor_students\n",
    "print(honor_students[\"last_name\"])"
   ]
  },
  {
   "cell_type": "markdown",
   "id": "1e91d666",
   "metadata": {},
   "source": [
    "### Counting categorical variables\n",
    "- Counting is a powerful method to get an overview of your data.\n",
    "- It helps you spot patterns, curiosities, or anomalies that might not be obvious at first glance."
   ]
  },
  {
   "cell_type": "code",
   "execution_count": 4,
   "id": "84e0446d",
   "metadata": {},
   "outputs": [
    {
     "name": "stdout",
     "output_type": "stream",
     "text": [
      "major\n",
      "Computer Science    4\n",
      "Business            4\n",
      "Engineering         4\n",
      "Mathematics         4\n",
      "Physics             4\n",
      "Name: count, dtype: int64\n",
      "major\n",
      "Computer Science    0.08\n",
      "Business            0.08\n",
      "Engineering         0.08\n",
      "Mathematics         0.08\n",
      "Physics             0.08\n",
      "Name: proportion, dtype: float64\n",
      "age\n",
      "20    13\n",
      "22    11\n",
      "21    10\n",
      "19     8\n",
      "23     5\n",
      "18     3\n",
      "Name: count, dtype: int64\n",
      "age\n",
      "20    0.26\n",
      "22    0.22\n",
      "21    0.20\n",
      "19    0.16\n",
      "23    0.10\n",
      "18    0.06\n",
      "Name: proportion, dtype: float64\n"
     ]
    }
   ],
   "source": [
    "# Drop duplicate first_name/major combinations\n",
    "student_majors = students.drop_duplicates(subset=[\"first_name\", \"major\"])\n",
    "\n",
    "# Drop duplicate first_name/age combinations\n",
    "student_ages = students.drop_duplicates(subset=[\"first_name\", \"age\"])\n",
    "\n",
    "# Count the number of students in each major\n",
    "major_counts = student_majors[\"major\"].value_counts()\n",
    "print(major_counts.head())\n",
    "\n",
    "# Get the proportion of students in each major\n",
    "major_props = student_majors[\"major\"].value_counts(normalize=True)\n",
    "print(major_props.head())\n",
    "\n",
    "# Count the number of students for each age and sort\n",
    "age_counts_sorted = student_ages[\"age\"].value_counts(sort=True)\n",
    "print(age_counts_sorted)\n",
    "\n",
    "# Get the proportion of students at each age and sort\n",
    "age_props_sorted = student_ages[\"age\"].value_counts(sort=True, normalize=True)\n",
    "print(age_props_sorted)"
   ]
  },
  {
   "cell_type": "markdown",
   "id": "60d0c0bc",
   "metadata": {},
   "source": [
    "## Grouped Summary Statistics"
   ]
  },
  {
   "cell_type": "code",
   "execution_count": 2,
   "id": "0c449869",
   "metadata": {},
   "outputs": [
    {
     "name": "stdout",
     "output_type": "stream",
     "text": [
      "[0.08225108 0.07503608 0.07936508]\n"
     ]
    }
   ],
   "source": [
    "import pandas as pd\n",
    "\n",
    "# Load the students dataset\n",
    "students = pd.read_csv(r'C:\\Users\\Dell\\OneDrive\\Desktop\\KaranCodes\\Datacampcourses\\Associate-Data-Scientist-Python-Track\\resources\\DatamanipulationwithPandas-datasets\\students.csv')\n",
    "\n",
    "# Calculate total credits completed by all students\n",
    "total_credits = students[\"credits_completed\"].sum()\n",
    "\n",
    "# Subset for Computer Science majors, calc total credits\n",
    "credits_cs = students[students[\"major\"] == \"Computer Science\"][\"credits_completed\"].sum()\n",
    "\n",
    "# Subset for Business majors, calc total credits\n",
    "credits_business = students[students[\"major\"] == \"Business\"][\"credits_completed\"].sum()\n",
    "\n",
    "# Subset for Engineering majors, calc total credits\n",
    "credits_engineering = students[students[\"major\"] == \"Engineering\"][\"credits_completed\"].sum()\n",
    "\n",
    "# Get proportion of credits completed for each major\n",
    "credits_propn_by_major = [credits_cs, credits_business, credits_engineering] / total_credits\n",
    "\n",
    "# Print the result\n",
    "print(credits_propn_by_major)"
   ]
  },
  {
   "cell_type": "markdown",
   "id": "e8c6fcb2",
   "metadata": {},
   "source": [
    "### Calculations using groupby method\n",
    "- As seen above we can group statistics traditionally but it is much easier with groupby method.\n",
    "- The .groupby() method simplifies calculations across groups of data.\n",
    "- It allows you to group data by one or more variables and perform calculations within each group."
   ]
  },
  {
   "cell_type": "code",
   "execution_count": 4,
   "id": "43e86bc5",
   "metadata": {},
   "outputs": [
    {
     "name": "stdout",
     "output_type": "stream",
     "text": [
      "major             is_honors\n",
      "Biology           False        225\n",
      "Business          False         40\n",
      "                  True         220\n",
      "Chemistry         False        165\n",
      "Computer Science  False        190\n",
      "Name: credits_completed, dtype: int64\n"
     ]
    }
   ],
   "source": [
    "# Group by major and calculate total credits completed\n",
    "credits_by_major = students.groupby(\"major\")[\"credits_completed\"].sum()\n",
    "\n",
    "# Group by major and is_honors (GPA > 3.5), and calculate total credits completed\n",
    "students[\"is_honors\"] = students[\"gpa\"] > 3.5\n",
    "credits_by_major_honors = students.groupby([\"major\", \"is_honors\"])[\"credits_completed\"].sum()\n",
    "\n",
    "# Print the result\n",
    "print(credits_by_major_honors.head())"
   ]
  },
  {
   "cell_type": "markdown",
   "id": "9b4842ca",
   "metadata": {},
   "source": [
    "### Multiple grouped summaries\n",
    "- The .agg() method can be used to compute multiple statistics on grouped data.\n",
    "- It allows you to apply multiple functions at once after grouping.\n",
    "- NumPy (imported as np) provides many summary statistics functions, such as:\n",
    "  - np.min — minimum value\n",
    "  - np.max — maximum value\n",
    "  - np.mean — mean (average)\n",
    "  - np.median — median\n",
    "- Combining .groupby() and .agg() makes your summaries more detailed and efficient."
   ]
  },
  {
   "cell_type": "code",
   "execution_count": 7,
   "id": "f3d65eab",
   "metadata": {},
   "outputs": [
    {
     "name": "stdout",
     "output_type": "stream",
     "text": [
      "                        min  max      mean  median\n",
      "major                                             \n",
      "Biology                 2.7  3.4  3.075000    3.10\n",
      "Business                3.2  3.8  3.625000    3.75\n",
      "Chemistry               2.8  3.0  2.900000    2.90\n",
      "Computer Science        3.1  3.6  3.325000    3.30\n",
      "Economics               3.2  3.5  3.333333    3.30\n",
      "Education               3.5  3.7  3.600000    3.60\n",
      "Engineering             2.9  3.4  3.150000    3.15\n",
      "History                 3.3  3.6  3.450000    3.45\n",
      "Literature              3.4  3.7  3.533333    3.50\n",
      "Mathematics             3.5  3.8  3.700000    3.75\n",
      "Mechanical Engineering  2.8  3.5  3.166667    3.20\n",
      "Physics                 2.7  3.1  2.950000    3.00\n",
      "Political Science       3.6  3.7  3.633333    3.60\n",
      "Psychology              3.6  3.9  3.825000    3.90\n",
      "                       age                       credits_completed       \\\n",
      "                       min max       mean median               min  max   \n",
      "major                                                                     \n",
      "Biology                 18  21  19.750000   20.0                30   75   \n",
      "Business                18  22  20.000000   20.0                40   90   \n",
      "Chemistry               19  22  20.333333   20.0                40   70   \n",
      "Computer Science        19  23  21.000000   21.0                45   95   \n",
      "Economics               20  22  21.000000   21.0                65   90   \n",
      "Education               18  22  20.333333   21.0                30   85   \n",
      "Engineering             19  22  20.500000   20.5                45   90   \n",
      "History                 20  23  21.750000   22.0                65  100   \n",
      "Literature              19  21  20.000000   20.0                50   80   \n",
      "Mathematics             20  23  21.250000   21.0                60  100   \n",
      "Mechanical Engineering  20  23  21.333333   21.0                55  100   \n",
      "Physics                 19  22  20.500000   20.5                35   85   \n",
      "Political Science       19  22  20.333333   20.0                50   90   \n",
      "Psychology              19  23  21.000000   21.0                45  100   \n",
      "\n",
      "                                          \n",
      "                             mean median  \n",
      "major                                     \n",
      "Biology                 56.250000   60.0  \n",
      "Business                65.000000   65.0  \n",
      "Chemistry               55.000000   55.0  \n",
      "Computer Science        71.250000   72.5  \n",
      "Economics               76.666667   75.0  \n",
      "Education               65.000000   80.0  \n",
      "Engineering             68.750000   70.0  \n",
      "History                 83.750000   85.0  \n",
      "Literature              61.666667   55.0  \n",
      "Mathematics             81.250000   82.5  \n",
      "Mechanical Engineering  75.000000   70.0  \n",
      "Physics                 62.500000   65.0  \n",
      "Political Science       68.333333   65.0  \n",
      "Psychology              76.250000   80.0  \n"
     ]
    }
   ],
   "source": [
    "# For each major, aggregate gpa: get min, max, mean, and median\n",
    "gpa_stats = students.groupby(\"major\")[\"gpa\"].agg([\"min\", \"max\", \"mean\", \"median\"])\n",
    "\n",
    "# Print gpa_stats\n",
    "print(gpa_stats)\n",
    "\n",
    "# For each major, aggregate age and credits_completed: get min, max, mean, and median\n",
    "age_credits_stats = students.groupby(\"major\")[[\"age\", \"credits_completed\"]].agg([\"min\", \"max\", \"mean\", \"median\"])\n",
    "\n",
    "# Print age_credits_stats\n",
    "print(age_credits_stats)"
   ]
  },
  {
   "cell_type": "markdown",
   "id": "ec6a6dbd",
   "metadata": {},
   "source": [
    "## Pivot Tables\n",
    "### Pivoting one variable\n",
    "- Pivot tables are a standard method for aggregating data in spreadsheets.\n",
    "- In pandas, pivot tables provide another way to perform grouped calculations.\n",
    "- The .pivot_table() method is an alternative to .groupby().\n",
    "- It allows you to summarize and organize data more visually and cleanly."
   ]
  },
  {
   "cell_type": "code",
   "execution_count": 8,
   "id": "53f8759c",
   "metadata": {},
   "outputs": [
    {
     "name": "stdout",
     "output_type": "stream",
     "text": [
      "                            mean median\n",
      "                             gpa    gpa\n",
      "major                                  \n",
      "Biology                 3.075000   3.10\n",
      "Business                3.625000   3.75\n",
      "Chemistry               2.900000   2.90\n",
      "Computer Science        3.325000   3.30\n",
      "Economics               3.333333   3.30\n",
      "Education               3.600000   3.60\n",
      "Engineering             3.150000   3.15\n",
      "History                 3.450000   3.45\n",
      "Literature              3.533333   3.50\n",
      "Mathematics             3.700000   3.75\n",
      "Mechanical Engineering  3.166667   3.20\n",
      "Physics                 2.950000   3.00\n",
      "Political Science       3.633333   3.60\n",
      "Psychology              3.825000   3.90\n"
     ]
    }
   ],
   "source": [
    "# Pivot for mean and median GPA for each major\n",
    "mean_med_gpa_by_major = students.pivot_table(values=\"gpa\", index=\"major\", aggfunc=[\"mean\", \"median\"])\n",
    "\n",
    "# Print mean_med_gpa_by_major\n",
    "print(mean_med_gpa_by_major)"
   ]
  },
  {
   "cell_type": "code",
   "execution_count": 9,
   "id": "80202483",
   "metadata": {},
   "outputs": [
    {
     "name": "stdout",
     "output_type": "stream",
     "text": [
      "is_honors                  False     True \n",
      "major                                     \n",
      "Biology                 3.075000       NaN\n",
      "Business                3.200000  3.766667\n",
      "Chemistry               2.900000       NaN\n",
      "Computer Science        3.233333  3.600000\n",
      "Economics               3.333333       NaN\n",
      "Education               3.500000  3.650000\n",
      "Engineering             3.150000       NaN\n",
      "History                 3.400000  3.600000\n",
      "Literature              3.450000  3.700000\n",
      "Mathematics             3.500000  3.766667\n",
      "Mechanical Engineering  3.166667       NaN\n",
      "Physics                 2.950000       NaN\n",
      "Political Science            NaN  3.633333\n",
      "Psychology                   NaN  3.825000\n"
     ]
    }
   ],
   "source": [
    "# Create a new column: is_honors (True if GPA > 3.5)\n",
    "students[\"is_honors\"] = students[\"gpa\"] > 3.5\n",
    "\n",
    "# Pivot for mean GPA by major and honors status\n",
    "mean_gpa_by_major_honors = students.pivot_table(values=\"gpa\", index=\"major\", columns=\"is_honors\")\n",
    "\n",
    "# Print the pivot table\n",
    "print(mean_gpa_by_major_honors)"
   ]
  },
  {
   "cell_type": "code",
   "execution_count": 10,
   "id": "7fd6a89d",
   "metadata": {},
   "outputs": [
    {
     "name": "stdout",
     "output_type": "stream",
     "text": [
      "is_honors                   False        True        All\n",
      "major                                                   \n",
      "Biology                 56.250000    0.000000  56.250000\n",
      "Business                40.000000   73.333333  65.000000\n",
      "Chemistry               55.000000    0.000000  55.000000\n",
      "Computer Science        63.333333   95.000000  71.250000\n",
      "Economics               76.666667    0.000000  76.666667\n",
      "Education               30.000000   82.500000  65.000000\n",
      "Engineering             68.750000    0.000000  68.750000\n",
      "History                 78.333333  100.000000  83.750000\n",
      "Literature              52.500000   80.000000  61.666667\n",
      "Mathematics             60.000000   88.333333  81.250000\n",
      "Mechanical Engineering  75.000000    0.000000  75.000000\n",
      "Physics                 62.500000    0.000000  62.500000\n",
      "Political Science        0.000000   68.333333  68.333333\n",
      "Psychology               0.000000   76.250000  76.250000\n",
      "All                     63.437500   79.722222  69.300000\n"
     ]
    }
   ],
   "source": [
    "# Create a new column: is_honors (True if GPA > 3.5)\n",
    "students[\"is_honors\"] = students[\"gpa\"] > 3.5\n",
    "\n",
    "# Pivot for mean credits_completed by major and honors status; fill missing with 0s; sum all rows and columns\n",
    "pivot_credits_by_major_honors = students.pivot_table(values=\"credits_completed\", index=\"major\", columns=\"is_honors\", fill_value=0, margins=True)\n",
    "\n",
    "# Print the result\n",
    "print(pivot_credits_by_major_honors)"
   ]
  },
  {
   "cell_type": "code",
   "execution_count": null,
   "id": "f052aa77",
   "metadata": {},
   "outputs": [],
   "source": []
  }
 ],
 "metadata": {
  "kernelspec": {
   "display_name": "Python (env)",
   "language": "python",
   "name": "env"
  },
  "language_info": {
   "codemirror_mode": {
    "name": "ipython",
    "version": 3
   },
   "file_extension": ".py",
   "mimetype": "text/x-python",
   "name": "python",
   "nbconvert_exporter": "python",
   "pygments_lexer": "ipython3",
   "version": "3.12.6"
  }
 },
 "nbformat": 4,
 "nbformat_minor": 5
}
